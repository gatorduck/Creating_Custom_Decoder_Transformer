{
 "cells": [
  {
   "cell_type": "markdown",
   "id": "2d960a9d",
   "metadata": {},
   "source": [
    "Autoregressive model that utilizes the decoder transformer architecture using the Keras/Tensor framework. In laymens terms we want to train a model similar to chat gpt, however instead of training on natural language we will use a patients life long healthcare journey through diagnosis codes."
   ]
  },
  {
   "cell_type": "markdown",
   "id": "d6d793f1",
   "metadata": {},
   "source": [
    "# Data"
   ]
  },
  {
   "cell_type": "code",
   "execution_count": 3,
   "id": "63689635",
   "metadata": {},
   "outputs": [],
   "source": [
    "import pandas as pd\n",
    "import tensorflow as tf\n",
    "from tensorflow.keras import layers\n",
    "from fn_data_prep import create_sequences"
   ]
  },
  {
   "cell_type": "markdown",
   "id": "b755d1e1",
   "metadata": {},
   "source": [
    "We use synthetic claims data. And create a sequence ordered by date to mimic a typical text based corpus."
   ]
  },
  {
   "cell_type": "code",
   "execution_count": 5,
   "id": "97252e19",
   "metadata": {},
   "outputs": [
    {
     "name": "stdout",
     "output_type": "stream",
     "text": [
      "            patient      date    dx\n",
      "0  00013D2EFD8E45D1  20100312  7802\n",
      "1  00016F745862898F  20090412  1970\n",
      "2  00016F745862898F  20090831  6186\n",
      "Created 15140 patient sequences\n"
     ]
    },
    {
     "data": {
      "text/plain": [
       "['1970 6186 29623 3569', '33811 V5789 49121 7366', '42789 5781']"
      ]
     },
     "execution_count": 5,
     "metadata": {},
     "output_type": "execute_result"
    }
   ],
   "source": [
    "\n",
    "\n",
    "claims = pd.read_csv('../data/DE1_0_2008_to_2010_Inpatient_Claims_Sample_1.csv')\n",
    "\n",
    "claims_renamed = claims[['DESYNPUF_ID','CLM_ADMSN_DT','ICD9_DGNS_CD_1']]\\\n",
    "    .rename(columns={'DESYNPUF_ID': 'patient', 'CLM_ADMSN_DT': 'date', 'ICD9_DGNS_CD_1':'dx'})\\\n",
    "    .sort_values(['patient', 'date'])\n",
    "\n",
    "print(claims_renamed.head(3))\n",
    "\n",
    "dx_sequences = create_sequences(claims_renamed)\n",
    "\n",
    "dx_sequences[:3]"
   ]
  },
  {
   "cell_type": "markdown",
   "id": "f234ecdd",
   "metadata": {},
   "source": [
    "We convert our data into batches and into Tensors."
   ]
  },
  {
   "cell_type": "code",
   "execution_count": 6,
   "id": "47efc452",
   "metadata": {},
   "outputs": [],
   "source": [
    "BATCH_SIZE = 32 # default - how many observations per batch that are fed into our NN\n",
    "VOCAB_SIZE = 10000 # only consider top 10000 dx by volume\n",
    "MAX_LEN = 50 # max sequence length\n",
    "\n",
    "# Convert to a Tensorflow Dataset\n",
    "sequence_ds = (\n",
    "    tf.data.Dataset.from_tensor_slices(dx_sequences) # converts it into a dataset where each element in the input becomes a separate data point\n",
    "    .batch(BATCH_SIZE)\n",
    ")"
   ]
  },
  {
   "cell_type": "markdown",
   "id": "ff3e83bb",
   "metadata": {},
   "source": [
    "This followed by tokenization. Or converting our diagnosis into numeric values."
   ]
  },
  {
   "cell_type": "code",
   "execution_count": 7,
   "id": "7895dd3a",
   "metadata": {},
   "outputs": [
    {
     "name": "stdout",
     "output_type": "stream",
     "text": [
      "original dx sequence\n",
      " 1970 6186 29623 3569\n",
      "token representation after appling vectorization layer\n",
      " [ 222 1112  377  725    0    0    0    0    0    0    0    0    0    0\n",
      "    0    0    0    0    0    0    0    0    0    0    0    0    0    0\n",
      "    0    0    0    0    0    0    0    0    0    0    0    0    0    0\n",
      "    0    0    0    0    0    0    0    0    0]\n"
     ]
    }
   ],
   "source": [
    "# Create a vectorisation layer\n",
    "vectorize_layer = layers.TextVectorization(\n",
    "    standardize=\"lower\", # This converts our text to lowercase, note some dx contain strings. \n",
    "    max_tokens=VOCAB_SIZE, # gives the most prevalent dx an integer token\n",
    "    output_mode=\"int\",\n",
    "    output_sequence_length=MAX_LEN + 1, # max length of each of our sequences + 1\n",
    ")\n",
    "\n",
    "# Adapt the layer to the training set\n",
    "vectorize_layer.adapt(sequence_ds)\n",
    "\n",
    "vocab = vectorize_layer.get_vocabulary()  # To get words back from token indices\n",
    "\n",
    "# Display the same example converted to ints\n",
    "example_tokenised = vectorize_layer(dx_sequences[0])\n",
    "print(\"original dx sequence\\n\",dx_sequences[0])\n",
    "print(\"token representation after appling vectorization layer\\n\",example_tokenised.numpy())"
   ]
  },
  {
   "cell_type": "markdown",
   "id": "b5afbc16",
   "metadata": {},
   "source": [
    "Prepare our data.\n",
    "\n",
    "Example: \n",
    "\n",
    "222 -> predict 1112\n",
    "\n",
    "222 + 1112 -> predict 377\n",
    "\n",
    "222 + 1112 + 377 -> predict 725"
   ]
  },
  {
   "cell_type": "code",
   "execution_count": 8,
   "id": "6a331511",
   "metadata": {},
   "outputs": [
    {
     "name": "stdout",
     "output_type": "stream",
     "text": [
      "First Input (x): [ 222 1112  377  725    0    0    0    0    0    0    0    0    0    0\n",
      "    0    0    0    0    0    0    0    0    0    0    0    0    0    0\n",
      "    0    0    0    0    0    0    0    0    0    0    0    0    0    0\n",
      "    0    0    0    0    0    0    0    0]\n",
      "First Target (y): [1112  377  725    0    0    0    0    0    0    0    0    0    0    0\n",
      "    0    0    0    0    0    0    0    0    0    0    0    0    0    0\n",
      "    0    0    0    0    0    0    0    0    0    0    0    0    0    0\n",
      "    0    0    0    0    0    0    0    0]\n"
     ]
    }
   ],
   "source": [
    "def prepare_inputs(text):\n",
    "    \"\"\"\n",
    "    Shift word sequences by 1 position so that the target for position (i) is\n",
    "    word at position (i+1). The model will use all words up till position (i)\n",
    "    to predict the next word.\n",
    "    \"\"\"\n",
    "    text = tf.expand_dims(text, -1)\n",
    "    tokenized_sentences = vectorize_layer(text)\n",
    "    x = tokenized_sentences[:, :-1] # contains all tokens except the last one in each sequence\n",
    "    y = tokenized_sentences[:, 1:] # contains all tokens except the first one, effectively shifting the sequence by one position\n",
    "    return x, y\n",
    "\n",
    "train_ds = sequence_ds.map(prepare_inputs)\n",
    "\n",
    "for x, y in train_ds.take(1):  # Get first batch\n",
    "    print(\"First Input (x):\", x[0].numpy())  # First observation\n",
    "    print(\"First Target (y):\", y[0].numpy()) "
   ]
  }
 ],
 "metadata": {
  "kernelspec": {
   "display_name": "Python 3",
   "language": "python",
   "name": "python3"
  },
  "language_info": {
   "codemirror_mode": {
    "name": "ipython",
    "version": 3
   },
   "file_extension": ".py",
   "mimetype": "text/x-python",
   "name": "python",
   "nbconvert_exporter": "python",
   "pygments_lexer": "ipython3",
   "version": "3.10.5"
  }
 },
 "nbformat": 4,
 "nbformat_minor": 5
}
